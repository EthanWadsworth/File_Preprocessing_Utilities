{
 "cells": [
  {
   "cell_type": "markdown",
   "metadata": {},
   "source": [
    "# Project Description\n",
    "\n",
    "This project serves as a command line tool utility for performing basic analysis on text files through the creation of word frequency charts and also cleaning up and modifying certain aspects of the data contained within text files. Users can specify the preprocessing method or tool they want to use using command line flags and by providing additional required arguments to certain methods using command line flags as well. This tool was designed to speed up basic preprocessing operations that might be relevant for fields such as Natural Language Processing (NLP). My idea for this tool actually came from a project that I am working on with a small group on others that will use NLP for sentiment analysis on text data to try and improve mental health. The command line interface supports the following operations:\n",
    "\n",
    "* count: gets the number of words contained within a provided text file\n",
    "* replace: given a word and a new word, finds all instances of the old word and replaces it with the new word. The output is written to a new file specified\n",
    "* create word frequency chart: given a file, show frequencies of word contained on the file in the form of a bar chart\n",
    "* create preprocessed word frequency chart: given a file, preprocess (apply stopwords and stemming) the file and then show the frequencies of each word in the form of a bar chart\n",
    "* create next word frequency chart for given word: Given a file and a word, create a word frequency chart for the words that follow the provided word and the number of times that each occurs\n",
    "* remove stopwords: remove all stopwords from a given file, and write the output to a specified file\n",
    "* stem words: stem each word in given file and write the output to the specified file\n",
    "* preprocess file: remove stopwords and stem words in given file and write the output to specified file\n",
    "* sentence generation: creates word frequency distribution and word map that stores words as individual keys where each word stores the frequencies of the words that come after that word key. A sentence is then generated using the most common word and looking through the most common next word for each following word.\n",
    "\n",
    "\n",
    "## Acknowledgements\n",
    "All of the data that I used in this demonstration can be found at the following links:\n",
    "\n",
    "Stars Wars Episode IV Script: https://www.kaggle.com/xvivancos/star-wars-movie-scripts\n",
    "\n",
    "Sonnet 18: https://www.poetryfoundation.org/poems/45087/sonnet-18-shall-i-compare-thee-to-a-summers-day"
   ]
  },
  {
   "cell_type": "markdown",
   "metadata": {},
   "source": [
    "# Project Code/Demonstration\n",
    "\n",
    "Here is the documentation for the complete commands list available for the text utilities command line tool from the scripts/ directory:\n",
    "* count: python interface.py -c -i <infile\\>\n",
    "* create word frequency chart: python interface.py -d -i <infile\\>\n",
    "* remove stopwords and write to file: python interface.py --rs -i <infile\\> -o <outfile\\>\n",
    "* stem words and write to file: python interface.py --sf -i <infile\\> -o <outfile\\>\n",
    "* preprocess (stopwords and stemming): python interface.py -p -i <infile\\> -o <outfile\\>\n",
    "* show preprocessed word frequency bar chart: python interface.py --dp -i <infile\\>\n",
    "* generate sentence from file: python interface.py -s -i <infile\\> -l <sentence_length\\>\n",
    "* show next word frequency chart for specified word: python interface.py --dn -i <infile\\> -w <word\\>\n",
    "* find and replace, write to file: python interface.py -u -i <infile\\> -o <outfile\\> -r <word_to_replace\\> -w <word\\>"
   ]
  },
  {
   "cell_type": "markdown",
   "metadata": {},
   "source": [
    "Below are the messages raised whenever a user does not provide the correct required arguments:"
   ]
  },
  {
   "cell_type": "code",
   "execution_count": 1,
   "metadata": {},
   "outputs": [
    {
     "name": "stdout",
     "output_type": "stream",
     "text": [
      "usage: python script.py -c -i <infile>\n",
      "usage: python script.py -d -i <infile>\n",
      "usage: python script.py --rs -i <infile> -o <outfile>\n",
      "usage: python script.py --sf -i <infile> -o <outfile>\n",
      "usage: python script.py -p -i <infile> -o <outfile>\n",
      "usage: python script.py --dp -i <infile>\n",
      "usage: python script.py -s -i <infile> -l <sentence_length>\n",
      "usage: python script.py --dn -i <infile> -w <word>\n",
      "usage: python script.py -u -i <infile> -o <outfile> -r <word_to_replace> -w <word>\n"
     ]
    }
   ],
   "source": [
    "# All usage messages to assist users\n",
    "!python scripts/interface.py -c     # count\n",
    "!python scripts/interface.py -d     # create word frequency chart\n",
    "!python scripts/interface.py --rs   # remove stopwords and write to file\n",
    "!python scripts/interface.py --sf   # stem words and write to file\n",
    "!python scripts/interface.py -p     # preprocess (stopwords and stemming)\n",
    "!python scripts/interface.py --dp   # show preprocessed word frequency bar chart\n",
    "!python scripts/interface.py -s     # generate sentence from file\n",
    "!python scripts/interface.py --dn   # show next word frequency chart for specified word\n",
    "!python scripts/interface.py -u     # find and replace, write to file"
   ]
  },
  {
   "cell_type": "markdown",
   "metadata": {},
   "source": [
    "### Count\n",
    "\n",
    "The following demonstration shows that the script of Star Wars Episode IV has 14140 words in it."
   ]
  },
  {
   "cell_type": "code",
   "execution_count": 2,
   "metadata": {},
   "outputs": [
    {
     "name": "stdout",
     "output_type": "stream",
     "text": [
      "14140\n"
     ]
    }
   ],
   "source": [
    "!python scripts/interface.py -c -i EpIV.txt"
   ]
  },
  {
   "cell_type": "markdown",
   "metadata": {},
   "source": [
    "### Remove Stopwords and Write to File\n"
   ]
  },
  {
   "cell_type": "code",
   "execution_count": 3,
   "metadata": {},
   "outputs": [
    {
     "name": "stdout",
     "output_type": "stream",
     "text": [
      "Sonnet 18: Shall I compare thee to a summer’s day?\n",
      "BY WILLIAM SHAKESPEARE\n",
      "\n",
      "Shall I compare thee to a summer’s day?\n",
      "Thou art more lovely and more temperate:\n",
      "Rough winds do shake the darling buds of May,\n",
      "And summer’s lease hath all too short a date;\n",
      "Sometime too hot the eye of heaven shines,\n",
      "And often is his gold complexion dimm'd;\n",
      "And every fair from fair sometime declines,\n",
      "By chance or nature’s changing course untrimm'd;\n",
      "But thy eternal summer shall not fade,\n",
      "Nor lose possession of that fair thou ow’st;\n",
      "Nor shall death brag thou wander’st in his shade,\n",
      "When in eternal lines to time thou grow’st:\n",
      "So long as men can breathe or eyes can see,\n",
      "So long lives this, and this gives life to thee."
     ]
    }
   ],
   "source": [
    "!cat Shakespeare_sonnet_18"
   ]
  },
  {
   "cell_type": "code",
   "execution_count": 4,
   "metadata": {},
   "outputs": [],
   "source": [
    "!python scripts/interface.py --rs -i Shakespeare_sonnet_18 -o sonnet_18_no_stopwords"
   ]
  },
  {
   "cell_type": "code",
   "execution_count": 5,
   "metadata": {},
   "outputs": [
    {
     "name": "stdout",
     "output_type": "stream",
     "text": [
      "Sonnet 18: Shall I compare thee summer’s day?\n",
      "BY WILLIAM SHAKESPEARE\n",
      "\n",
      "Shall I compare thee summer’s day?\n",
      "Thou art lovely temperate:\n",
      "Rough winds shake darling buds May,\n",
      "And summer’s lease hath short date;\n",
      "Sometime hot eye heaven shines,\n",
      "And often gold complexion dimm'd;\n",
      "And every fair fair sometime declines,\n",
      "By chance nature’s changing course untrimm'd;\n",
      "But thy eternal summer shall fade,\n",
      "Nor lose possession fair thou ow’st;\n",
      "Nor shall death brag thou wander’st shade,\n",
      "When eternal lines time thou grow’st:\n",
      "So long men breathe eyes see,\n",
      "So long lives this, gives life thee."
     ]
    }
   ],
   "source": [
    "!cat sonnet_18_no_stopwords"
   ]
  },
  {
   "cell_type": "markdown",
   "metadata": {},
   "source": [
    "As can be seen, words such as 'to', 'in', 'more' have been removed in the text above."
   ]
  },
  {
   "cell_type": "markdown",
   "metadata": {},
   "source": [
    "### Stem Words and Write to File\n",
    "Refer to the remove stopwords example above for the original text."
   ]
  },
  {
   "cell_type": "code",
   "execution_count": 6,
   "metadata": {},
   "outputs": [],
   "source": [
    "!python scripts/interface.py --sf -i Shakespeare_sonnet_18 -o sonnet_18_stemmed"
   ]
  },
  {
   "cell_type": "code",
   "execution_count": 7,
   "metadata": {},
   "outputs": [
    {
     "name": "stdout",
     "output_type": "stream",
     "text": [
      "Sonnet 18: shall I compar thee to a summer’ day?\n",
      "bi william shakespeare\n",
      "\n",
      "shal I compar thee to a summer’ day?\n",
      "thou art more love and more temperate:\n",
      "rough wind do shake the darl bud of may,\n",
      "and summer’ leas hath all too short a date;\n",
      "sometim too hot the eye of heaven shines,\n",
      "and often is hi gold complexion dimm'd;\n",
      "and everi fair from fair sometim declines,\n",
      "bi chanc or nature’ chang cours untrimm'd;\n",
      "but thi etern summer shall not fade,\n",
      "nor lose possess of that fair thou ow’st;\n",
      "nor shall death brag thou wander’st in hi shade,\n",
      "when in etern line to time thou grow’st:\n",
      "so long as men can breath or eye can see,\n",
      "so long live this, and thi give life to thee."
     ]
    }
   ],
   "source": [
    "!cat sonnet_18_stemmed"
   ]
  },
  {
   "cell_type": "markdown",
   "metadata": {},
   "source": [
    "Above are the stemmed results when applied to Shakespeare's sonnet 18."
   ]
  },
  {
   "cell_type": "markdown",
   "metadata": {},
   "source": [
    "### Preprocessing (Removing Stopwords and Stemming)\n",
    "Refer to the remove stopwords example above for the original text."
   ]
  },
  {
   "cell_type": "code",
   "execution_count": 8,
   "metadata": {},
   "outputs": [],
   "source": [
    "!python scripts/interface.py -p -i Shakespeare_sonnet_18 -o sonnet_18_preprocessed"
   ]
  },
  {
   "cell_type": "code",
   "execution_count": 9,
   "metadata": {},
   "outputs": [
    {
     "name": "stdout",
     "output_type": "stream",
     "text": [
      "Sonnet 18: shall I compar thee summer’ day?\n",
      "bi william shakespeare\n",
      "\n",
      "shal I compar thee summer’ day?\n",
      "thou art love temperate:\n",
      "rough wind shake darl bud may,\n",
      "and summer’ leas hath short date;\n",
      "sometim hot eye heaven shines,\n",
      "and often gold complexion dimm'd;\n",
      "and everi fair fair sometim declines,\n",
      "bi chanc nature’ chang cours untrimm'd;\n",
      "but thi etern summer shall fade,\n",
      "nor lose possess fair thou ow’st;\n",
      "nor shall death brag thou wander’st shade,\n",
      "when etern line time thou grow’st:\n",
      "so long men breath eye see,\n",
      "so long live this, give life thee."
     ]
    }
   ],
   "source": [
    "!cat sonnet_18_preprocessed"
   ]
  },
  {
   "cell_type": "markdown",
   "metadata": {},
   "source": [
    "When compared to the individual calls above, the combined call simplifies the text body even further."
   ]
  },
  {
   "cell_type": "markdown",
   "metadata": {},
   "source": [
    "### Sentence Generation\n",
    "Using word frequencies and next word mappings, here is an original sentence that the text utility came up with using Star Wars Episode IV:"
   ]
  },
  {
   "cell_type": "code",
   "execution_count": 10,
   "metadata": {},
   "outputs": [
    {
     "name": "stdout",
     "output_type": "stream",
     "text": [
      " i dont know what happened to be able to.\n"
     ]
    }
   ],
   "source": [
    "!python scripts/interface.py -s -i EpIV.txt -l 10"
   ]
  },
  {
   "cell_type": "markdown",
   "metadata": {},
   "source": [
    "### Find and Replace Word Instances With New Word\n",
    "Once again, refer to the remove stopwords example for the original text."
   ]
  },
  {
   "cell_type": "code",
   "execution_count": 11,
   "metadata": {},
   "outputs": [],
   "source": [
    "!python scripts/interface.py -u -i Shakespeare_sonnet_18 -o updated_sonnet -r thee -w COGS18"
   ]
  },
  {
   "cell_type": "code",
   "execution_count": 12,
   "metadata": {},
   "outputs": [
    {
     "name": "stdout",
     "output_type": "stream",
     "text": [
      "Sonnet 18: Shall I compare COGS18 to a summer’s day?\n",
      "BY WILLIAM SHAKESPEARE\n",
      "\n",
      "Shall I compare COGS18 to a summer’s day?\n",
      "Thou art more lovely and more temperate:\n",
      "Rough winds do shake the darling buds of May,\n",
      "And summer’s lease hath all too short a date;\n",
      "Sometime too hot the eye of heaven shines,\n",
      "And often is his gold complexion dimm'd;\n",
      "And every fair from fair sometime declines,\n",
      "By chance or nature’s changing course untrimm'd;\n",
      "But thy eternal summer shall not fade,\n",
      "Nor lose possession of that fair thou ow’st;\n",
      "Nor shall death brag thou wander’st in his shade,\n",
      "When in eternal lines to time thou grow’st:\n",
      "So long as men can breathe or eyes can see,\n",
      "So long lives this, and this gives life to COGS18."
     ]
    }
   ],
   "source": [
    "!cat updated_sonnet"
   ]
  },
  {
   "cell_type": "markdown",
   "metadata": {},
   "source": [
    "As can be seen above, all instances of 'thee' in the text were replaced by 'COGS18'."
   ]
  },
  {
   "cell_type": "markdown",
   "metadata": {},
   "source": [
    "### Top 100 Word Frequencies\n",
    "Here is how to get the top 100 word frequencies for the script for Star Wars Episode IV. Unfortunately the way I wrote the code prevents the chart from showing up naturally in Jupyter notebooks, so I instead got images and inserted them instead."
   ]
  },
  {
   "cell_type": "code",
   "execution_count": 13,
   "metadata": {},
   "outputs": [
    {
     "name": "stdout",
     "output_type": "stream",
     "text": [
      "Figure(640x480)\n"
     ]
    }
   ],
   "source": [
    "!python scripts/interface.py -d -i EpIV.txt"
   ]
  },
  {
   "cell_type": "markdown",
   "metadata": {},
   "source": [
    "![title](SW_EPIV_Frequencies.png)"
   ]
  },
  {
   "cell_type": "markdown",
   "metadata": {},
   "source": [
    "From this chart, it appears that the most common word in the Episode IV script was 'the', followed by 'you' and then 'luke'. The file can also be preprocessed first and then have the word frequency chart generated as well."
   ]
  },
  {
   "cell_type": "markdown",
   "metadata": {},
   "source": [
    "### Top 100 Word Frequencies After Preprocessing\n",
    "Here is the word frequency chart for Star Wars Episode IV after removing all stopwords and stemming the text. The results will be fairly similar, as the only thing that really changed was the addition of some new words towards the start of the chart like 'stay' and 'intercom'."
   ]
  },
  {
   "cell_type": "code",
   "execution_count": 14,
   "metadata": {},
   "outputs": [
    {
     "name": "stdout",
     "output_type": "stream",
     "text": [
      "Figure(640x480)\n"
     ]
    }
   ],
   "source": [
    "!python scripts/interface.py --dp -i EpIV.txt"
   ]
  },
  {
   "cell_type": "markdown",
   "metadata": {},
   "source": [
    "![title](SW_EPIV_preprocessed_frequencies.png)"
   ]
  },
  {
   "cell_type": "markdown",
   "metadata": {},
   "source": [
    "### Top 100 Most Frequently Occurring Words After 'luke'\n",
    "Below is the chart for the frequencies of the words that occur directly after the word 'luke'."
   ]
  },
  {
   "cell_type": "code",
   "execution_count": 15,
   "metadata": {},
   "outputs": [
    {
     "name": "stdout",
     "output_type": "stream",
     "text": [
      "Figure(640x480)\n"
     ]
    }
   ],
   "source": [
    "!python scripts/interface.py --dn -i EpIV.txt -w luke"
   ]
  },
  {
   "cell_type": "markdown",
   "metadata": {},
   "source": [
    "![title](word_frequencies_after_luke.png)"
   ]
  },
  {
   "cell_type": "markdown",
   "metadata": {},
   "source": [
    "\n",
    "***\n"
   ]
  },
  {
   "cell_type": "markdown",
   "metadata": {},
   "source": [
    "I have been programming for a little over a year now as a Computer Science major. In terms of my Python experience, I knew all of the essentials of the language up to inherited classes and basic multithreading coming in to the course. I have used Python extensively when working with the opencv computer vision library as the computer vision team lead for Triton Robotics, one of the engineering organizations on campus. \n",
    "\n",
    "This project goes above the minimum requirements because I had to learn the basics of the optparse module that comes standard in the python library to implement my command line utility tool. This was challenging for me because I had never had to deal with more than handling one or two flags using getopt, and never had to handle the possibility that 3 to 4 flags could be input for a single call to my command line tool. Many of my methods also relied on the word maps stored in dictionaries, so I had to figure out some more advanced techniques when it comes to modifying, sorting, and updating dictionary values. This got especially confusing when I was creating my word map, where the map was a dictionary of word keys and each key contained its own dictionary of word, integer key value pairs."
   ]
  }
 ],
 "metadata": {
  "kernelspec": {
   "display_name": "Python 3",
   "language": "python",
   "name": "python3"
  },
  "language_info": {
   "codemirror_mode": {
    "name": "ipython",
    "version": 3
   },
   "file_extension": ".py",
   "mimetype": "text/x-python",
   "name": "python",
   "nbconvert_exporter": "python",
   "pygments_lexer": "ipython3",
   "version": "3.7.4"
  }
 },
 "nbformat": 4,
 "nbformat_minor": 4
}
